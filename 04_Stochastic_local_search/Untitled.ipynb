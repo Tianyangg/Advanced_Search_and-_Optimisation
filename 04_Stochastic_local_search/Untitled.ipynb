{
 "cells": [
  {
   "cell_type": "code",
   "execution_count": 2,
   "metadata": {},
   "outputs": [
    {
     "name": "stdout",
     "output_type": "stream",
     "text": [
      "MannwhitneyuResult(statistic=391.0, pvalue=0.193087182332837)\n"
     ]
    }
   ],
   "source": [
    "from scipy import stats\n",
    "def wilcoxon_signed_rank_test(y1, y2):\n",
    "    #res = stats.wilcoxon(y1, y2)\n",
    "    res = stats.mannwhitneyu(y1, y2)\n",
    "    print(res)\n",
    "\n",
    "tabu = [7085, 7195, 7205, 7083, 7238, 7016, 7016, 7090, 7144, 7083, \n",
    "        7016, 7200, 7178, 7325, 7101, 7097, 7229, 7116, 7016, 7229, \n",
    "        7097, 7016, 7016, 7205, 7291, 7229, 7188, 7101, 7097, 7307]\n",
    "sa = [7339, 7016, 7497, 7107, 7095, 7183, 7039, 7282, 7085, 7149,\n",
    "      7039, 7220, 7305, 7117, 7016, 7269, 7016, 7119, 7310, 7164, \n",
    "      7032, 7214, 7097, 7131, 7193, 7107, 7329, 7127, 7156, 7219]\n",
    "\n",
    "wilcoxon_signed_rank_test(tabu, sa)"
   ]
  },
  {
   "cell_type": "code",
   "execution_count": null,
   "metadata": {},
   "outputs": [],
   "source": []
  }
 ],
 "metadata": {
  "kernelspec": {
   "display_name": "Python 3",
   "language": "python",
   "name": "python3"
  },
  "language_info": {
   "codemirror_mode": {
    "name": "ipython",
    "version": 3
   },
   "file_extension": ".py",
   "mimetype": "text/x-python",
   "name": "python",
   "nbconvert_exporter": "python",
   "pygments_lexer": "ipython3",
   "version": "3.7.1"
  }
 },
 "nbformat": 4,
 "nbformat_minor": 2
}
